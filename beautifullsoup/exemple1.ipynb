{
 "cells": [
  {
   "cell_type": "code",
   "execution_count": 9,
   "metadata": {},
   "outputs": [],
   "source": [
    "import requests\n",
    "from bs4 import BeautifulSoup"
   ]
  },
  {
   "cell_type": "code",
   "execution_count": 10,
   "metadata": {},
   "outputs": [],
   "source": [
    "url = 'https://en.wikipedia.org/wiki/Rhinoceros'\n",
    "\n",
    "response = requests.get(url)"
   ]
  },
  {
   "cell_type": "code",
   "execution_count": 11,
   "metadata": {},
   "outputs": [],
   "source": [
    "# ecrire le code source de la page dans un fichier\n",
    "with open('rottentomatoes.html', 'w') as file:\n",
    "    file.write(response.text)\n"
   ]
  },
  {
   "cell_type": "code",
   "execution_count": 12,
   "metadata": {},
   "outputs": [],
   "source": [
    "soup = BeautifulSoup(response.text, 'html.parser')"
   ]
  },
  {
   "cell_type": "code",
   "execution_count": 20,
   "metadata": {},
   "outputs": [
    {
     "data": {
      "text/plain": [
       "[<th class=\"infobox-above hd\" colspan=\"2\" style=\"background-color: transparent\"><span title=\"Basque-language text\"><i lang=\"eu\">Aste Nagusia</i></span></th>,\n",
       " <th class=\"infobox-label\" scope=\"row\">Type</th>,\n",
       " <th class=\"infobox-label\" scope=\"row\">Significance</th>,\n",
       " <th class=\"infobox-label\" scope=\"row\">Celebrations</th>,\n",
       " <th class=\"infobox-label\" scope=\"row\">Date</th>,\n",
       " <th class=\"infobox-label\" scope=\"row\">2023 date</th>,\n",
       " <th class=\"infobox-label\" scope=\"row\">2024 date</th>,\n",
       " <th class=\"infobox-label\" scope=\"row\">2025 date</th>,\n",
       " <th class=\"infobox-label\" scope=\"row\">2026 date</th>,\n",
       " <th class=\"infobox-label\" scope=\"row\">Frequency</th>,\n",
       " <th scope=\"col\">Year\n",
       " </th>,\n",
       " <th><span title=\"Spanish-language text\"><i lang=\"es-ES\">Txupinera</i></span>\n",
       " </th>,\n",
       " <th>Herald\n",
       " </th>]"
      ]
     },
     "execution_count": 20,
     "metadata": {},
     "output_type": "execute_result"
    }
   ],
   "source": [
    "soup.find_all('th')\n",
    "# soup.find_all('a', href=\"#bodyContent\")\n",
    "\n",
    "# soup.find_all('a', _class=\"mw-jump-link\")"
   ]
  }
 ],
 "metadata": {
  "kernelspec": {
   "display_name": "Python 3",
   "language": "python",
   "name": "python3"
  },
  "language_info": {
   "codemirror_mode": {
    "name": "ipython",
    "version": 3
   },
   "file_extension": ".py",
   "mimetype": "text/x-python",
   "name": "python",
   "nbconvert_exporter": "python",
   "pygments_lexer": "ipython3",
   "version": "3.10.14"
  }
 },
 "nbformat": 4,
 "nbformat_minor": 2
}
