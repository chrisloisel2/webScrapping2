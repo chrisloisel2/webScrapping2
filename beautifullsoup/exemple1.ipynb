{
 "cells": [
  {
   "cell_type": "code",
   "execution_count": 83,
   "metadata": {},
   "outputs": [
    {
     "name": "stdout",
     "output_type": "stream",
     "text": [
      "Collecting lxml\n",
      "  Downloading lxml-5.3.0-cp310-cp310-macosx_10_9_universal2.whl.metadata (3.8 kB)\n",
      "Downloading lxml-5.3.0-cp310-cp310-macosx_10_9_universal2.whl (8.1 MB)\n",
      "\u001b[2K   \u001b[38;2;114;156;31m━━━━━━━━━━━━━━━━━━━━━━━━━━━━━━━━━━━━━━━━\u001b[0m \u001b[32m8.1/8.1 MB\u001b[0m \u001b[31m1.4 MB/s\u001b[0m eta \u001b[36m0:00:00\u001b[0mm eta \u001b[36m0:00:01\u001b[0m0:01\u001b[0m:01\u001b[0m0m\n",
      "\u001b[?25hInstalling collected packages: lxml\n",
      "Successfully installed lxml-5.3.0\n"
     ]
    }
   ],
   "source": [
    "!pip install lxml\n",
    "\n",
    "import requests\n",
    "from bs4 import BeautifulSoup\n",
    "from lxml import etree"
   ]
  },
  {
   "cell_type": "code",
   "execution_count": 21,
   "metadata": {},
   "outputs": [],
   "source": [
    "url = 'https://en.wikipedia.org/wiki/Rhinoceros'\n",
    "\n",
    "response = requests.get(url)"
   ]
  },
  {
   "cell_type": "code",
   "execution_count": 11,
   "metadata": {},
   "outputs": [],
   "source": [
    "# ecrire le code source de la page dans un fichier\n",
    "with open('rottentomatoes.html', 'w') as file:\n",
    "    file.write(response.text)\n"
   ]
  },
  {
   "cell_type": "code",
   "execution_count": 84,
   "metadata": {},
   "outputs": [],
   "source": [
    "soup = BeautifulSoup(response.text, 'html.parser')\n",
    "\n",
    "dom = etree.HTML(str(soup))"
   ]
  },
  {
   "cell_type": "markdown",
   "metadata": {},
   "source": [
    "### Récuperation de balise a partir du tag html\n"
   ]
  },
  {
   "cell_type": "code",
   "execution_count": 24,
   "metadata": {},
   "outputs": [
    {
     "data": {
      "text/plain": [
       "[<h1 class=\"firstHeading mw-first-heading\" id=\"firstHeading\"><span class=\"mw-page-title-main\">Rhinoceros</span></h1>]"
      ]
     },
     "execution_count": 24,
     "metadata": {},
     "output_type": "execute_result"
    }
   ],
   "source": [
    "soup.find_all('h1')\n",
    "# soup.find_all('a', href=\"#bodyContent\")\n",
    "\n",
    "# soup.find_all('a', _class=\"mw-jump-link\")"
   ]
  },
  {
   "cell_type": "markdown",
   "metadata": {},
   "source": [
    "### Récuperation de balise a partir de la classe et de l'id"
   ]
  },
  {
   "cell_type": "code",
   "execution_count": 42,
   "metadata": {},
   "outputs": [
    {
     "name": "stdout",
     "output_type": "stream",
     "text": [
      "<h2 id=\"Taxonomy_and_naming\">Taxonomy and naming</h2>\n"
     ]
    }
   ],
   "source": [
    "# soup.find('h2', id='Taxonomy_and_naming')\n",
    "elemnt = soup.find('div', class_='mw-heading mw-heading2')\n",
    "print(elemnt.contents)\n",
    "# element2 = element.find_next('h2')\n",
    "# print(element2)"
   ]
  },
  {
   "cell_type": "markdown",
   "metadata": {},
   "source": [
    "### Récuperation de balise a partir de l'attribut"
   ]
  },
  {
   "cell_type": "code",
   "execution_count": 31,
   "metadata": {},
   "outputs": [
    {
     "data": {
      "text/plain": [
       "<a class=\"mw-redirect\" href=\"/wiki/Rhinocerotoid\" title=\"Rhinocerotoid\">Rhinocerotoids</a>"
      ]
     },
     "execution_count": 31,
     "metadata": {},
     "output_type": "execute_result"
    }
   ],
   "source": [
    "element = soup.find('a', attrs={'href': '/wiki/Rhinocerotoid'})\n",
    "element"
   ]
  },
  {
   "cell_type": "code",
   "execution_count": 57,
   "metadata": {},
   "outputs": [],
   "source": [
    "colonne = soup.find('div', class_='vector-column-start')\n",
    "parent = colonne.parent\n",
    "siblings = colonne.find_next_sibling()\n",
    "siblings.find_next_sibling().find_next_sibling()"
   ]
  },
  {
   "cell_type": "code",
   "execution_count": 111,
   "metadata": {},
   "outputs": [],
   "source": [
    "def traitement(response):\n",
    "\tsoup = BeautifulSoup(response.text, 'html.parser')\n",
    "\tdom = etree.HTML(str(soup))\n",
    "\t# Recuperer les liens\n",
    "\tlinks = dom.xpath('//a/@href')\n",
    "\t# Recuperer les images\n",
    "\timages = dom.xpath('//img/@src')\n",
    "\t# Recuperer les paragraphes\n",
    "\tparagraphs = dom.xpath('//p/text()')\n",
    "\t# Recuperer les titres\n",
    "\ttitles = dom.xpath('//h1/text()')\n",
    "\t# Recuperer les sous-titres\n",
    "\tsubtitles = dom.xpath('//h2/text()')\n",
    "\t# Recuperer les listes\n",
    "\tlists = dom.xpath('//ul/li/text()')\n",
    "\t# Recuperer les tableaux\n",
    "\ttables = dom.xpath('//table/tr/td/text()')\n",
    "\t# Recuperer les divs\n",
    "\tdivs = dom.xpath('//div/text()')\n",
    "\t# Recuperer les span\n",
    "\tspans = dom.xpath('//span/text()')\n",
    "\t# Recuperer les strong\n",
    "\tstrongs = dom.xpath('//strong/text()')\n",
    "\n",
    "\n",
    "# Fonction de crawling\n",
    "def get_links(url):\n",
    "\tresponse = requests.get(url)\n",
    "\ttraitement(response)"
   ]
  },
  {
   "cell_type": "code",
   "execution_count": 113,
   "metadata": {},
   "outputs": [
    {
     "name": "stdout",
     "output_type": "stream",
     "text": [
      "https://donate.wikimedia.org/wiki/Special:FundraiserRedirector?utm_source=donate&utm_medium=sidebar&utm_campaign=C13_en.wikipedia.org&uselang=en\n",
      "https://af.wikipedia.org/wiki/Renoster\n",
      "https://als.wikipedia.org/wiki/Nashorn\n",
      "https://am.wikipedia.org/wiki/%E1%8A%A0%E1%8B%8D%E1%88%AB%E1%88%AA%E1%88%B5\n",
      "https://ar.wikipedia.org/wiki/%D9%83%D8%B1%D9%83%D8%AF%D9%86%D9%8A%D8%A7%D8%AA\n",
      "https://frp.wikipedia.org/wiki/Rinoc%C3%A8ros\n",
      "https://ast.wikipedia.org/wiki/Rhinocerotidae\n",
      "https://gn.wikipedia.org/wiki/T%C4%A9at%C4%A9\n",
      "https://av.wikipedia.org/wiki/%D0%93%D1%8A%D0%B0%D1%80%D0%B3%D1%8A%D0%B0%D0%B4%D0%B0%D0%BD\n",
      "https://az.wikipedia.org/wiki/K%C9%99rg%C9%99danlar\n",
      "https://azb.wikipedia.org/wiki/%DA%A9%D8%B1%DA%AF%D8%AF%D9%86\n",
      "https://ban.wikipedia.org/wiki/Warak\n",
      "https://bn.wikipedia.org/wiki/%E0%A6%97%E0%A6%A3%E0%A7%8D%E0%A6%A1%E0%A6%BE%E0%A6%B0\n",
      "https://zh-min-nan.wikipedia.org/wiki/Sai-g%C3%BB\n",
      "https://ba.wikipedia.org/wiki/%D0%9C%D3%A9%D0%B3%D3%A9%D2%99%D0%BC%D0%BE%D1%80%D0%BE%D0%BD%D0%B4%D0%B0%D1%80\n",
      "https://be.wikipedia.org/wiki/%D0%9D%D0%B0%D1%81%D0%B0%D1%80%D0%BE%D0%B3%D1%96\n",
      "https://be-tarask.wikipedia.org/wiki/%D0%9D%D0%B0%D1%81%D0%B0%D1%80%D0%BE%D0%B3%D0%B0%D0%B2%D1%8B%D1%8F\n",
      "https://bh.wikipedia.org/wiki/%E0%A4%97%E0%A5%88%E0%A4%82%E0%A4%A1%E0%A4%BE\n",
      "https://bg.wikipedia.org/wiki/%D0%9D%D0%BE%D1%81%D0%BE%D1%80%D0%BE%D0%B3%D0%BE%D0%B2%D0%B8\n",
      "https://bo.wikipedia.org/wiki/%E0%BD%96%E0%BD%A6%E0%BD%BA%E0%BC%8B%E0%BD%A2%E0%BD%B4%E0%BC%8D\n",
      "https://bs.wikipedia.org/wiki/Nosorog\n",
      "https://br.wikipedia.org/wiki/Frikorneg\n",
      "https://ca.wikipedia.org/wiki/Rinoceronts\n",
      "https://ceb.wikipedia.org/wiki/Rhinocerotidae\n",
      "https://cs.wikipedia.org/wiki/Nosoro%C5%BEcovit%C3%AD\n",
      "https://sn.wikipedia.org/wiki/Chipembere\n",
      "https://cy.wikipedia.org/wiki/Rinoseros\n",
      "https://da.wikipedia.org/wiki/N%C3%A6sehorn\n",
      "https://de.wikipedia.org/wiki/Nash%C3%B6rner\n",
      "https://nv.wikipedia.org/wiki/D%C3%A9%C3%A9lg%C3%A9%C3%A9d\n",
      "https://et.wikipedia.org/wiki/Ninasarviklased\n",
      "https://el.wikipedia.org/wiki/%CE%A1%CE%B9%CE%BD%CF%8C%CE%BA%CE%B5%CF%81%CE%BF%CF%82\n",
      "https://es.wikipedia.org/wiki/Rhinocerotidae\n",
      "https://eo.wikipedia.org/wiki/Rinoceredoj\n",
      "https://eu.wikipedia.org/wiki/Errinozero\n",
      "https://fa.wikipedia.org/wiki/%DA%A9%D8%B1%DA%AF%D8%AF%D9%86\n",
      "https://fo.wikipedia.org/wiki/Nashyrningur\n",
      "https://fr.wikipedia.org/wiki/Rhinoc%C3%A9ros\n",
      "https://ga.wikipedia.org/wiki/Sr%C3%B3nbheannach\n",
      "https://gd.wikipedia.org/wiki/Sr%C3%B2n-adharcach\n",
      "https://gl.wikipedia.org/wiki/Rinocerontes\n",
      "https://inh.wikipedia.org/wiki/%D0%91%D0%B8%D1%80%D0%BD%D0%B0%D0%BB\n",
      "https://xal.wikipedia.org/wiki/%D0%9E%D1%80%D2%A3%D2%BB\n",
      "https://ko.wikipedia.org/wiki/%EC%BD%94%EB%BF%94%EC%86%8C\n",
      "https://hy.wikipedia.org/wiki/%D5%8C%D5%B6%D5%A3%D5%A5%D5%B2%D5%BB%D5%B5%D5%B8%D6%82%D6%80\n",
      "https://hi.wikipedia.org/wiki/%E0%A4%97%E0%A5%88%E0%A4%A3%E0%A5%8D%E0%A4%A1%E0%A4%BE\n",
      "https://hr.wikipedia.org/wiki/Nosorozi\n",
      "https://io.wikipedia.org/wiki/Rinocero\n",
      "https://id.wikipedia.org/wiki/Badak\n",
      "https://os.wikipedia.org/wiki/%D0%A1%D1%8B%D0%BA%D1%8A%D0%B0%D1%84%D1%8B%D0%BD%D0%B4%D0%B7\n",
      "https://zu.wikipedia.org/wiki/Umkhombe\n",
      "https://is.wikipedia.org/wiki/Nashyrningur\n",
      "https://it.wikipedia.org/wiki/Rhinocerotidae\n",
      "https://he.wikipedia.org/wiki/%D7%A7%D7%A8%D7%A0%D7%A4%D7%99%D7%99%D7%9D\n",
      "https://jv.wikipedia.org/wiki/Warak\n",
      "https://kl.wikipedia.org/wiki/Siissisoq\n",
      "https://kn.wikipedia.org/wiki/%E0%B2%96%E0%B2%A1%E0%B3%8D%E0%B2%97%E0%B2%AE%E0%B3%83%E0%B2%97\n",
      "https://ka.wikipedia.org/wiki/%E1%83%9B%E1%83%90%E1%83%A0%E1%83%A2%E1%83%9D%E1%83%A0%E1%83%A5%E1%83%98%E1%83%A1%E1%83%94%E1%83%91%E1%83%A0%E1%83%9C%E1%83%98\n",
      "https://kk.wikipedia.org/wiki/%D0%9C%D2%AF%D0%B9%D1%96%D0%B7%D1%82%D2%B1%D0%BC%D1%81%D1%8B%D2%9B%D1%82%D0%B0%D1%80\n",
      "https://kw.wikipedia.org/wiki/Trongornvil\n",
      "https://sw.wikipedia.org/wiki/Kifaru\n",
      "https://kv.wikipedia.org/wiki/%D0%A1%D1%8E%D1%80%D0%B0%D0%BD%D1%8B%D1%80\n",
      "https://kg.wikipedia.org/wiki/Kifalu\n",
      "https://avk.wikipedia.org/wiki/Beicekol_(Rhinocerotidae)\n",
      "https://ht.wikipedia.org/wiki/Rinosew%C3%B2s\n",
      "https://ku.wikipedia.org/wiki/Kerkedan\n",
      "https://ky.wikipedia.org/wiki/%D0%9A%D0%B5%D1%80%D0%B8%D0%BA%D1%82%D0%B5%D1%80\n",
      "https://lld.wikipedia.org/wiki/Rinozerontids\n"
     ]
    },
    {
     "ename": "KeyboardInterrupt",
     "evalue": "",
     "output_type": "error",
     "traceback": [
      "\u001b[0;31m---------------------------------------------------------------------------\u001b[0m",
      "\u001b[0;31mKeyboardInterrupt\u001b[0m                         Traceback (most recent call last)",
      "Cell \u001b[0;32mIn[113], line 6\u001b[0m\n\u001b[1;32m      4\u001b[0m \u001b[38;5;28;01mif\u001b[39;00m lien\u001b[38;5;241m.\u001b[39mattrs[\u001b[38;5;124m'\u001b[39m\u001b[38;5;124mhref\u001b[39m\u001b[38;5;124m'\u001b[39m]\u001b[38;5;241m.\u001b[39mstartswith(\u001b[38;5;124m'\u001b[39m\u001b[38;5;124mhttp\u001b[39m\u001b[38;5;124m'\u001b[39m):\n\u001b[1;32m      5\u001b[0m     \u001b[38;5;28mprint\u001b[39m(lien\u001b[38;5;241m.\u001b[39mattrs[\u001b[38;5;124m'\u001b[39m\u001b[38;5;124mhref\u001b[39m\u001b[38;5;124m'\u001b[39m])\n\u001b[0;32m----> 6\u001b[0m     \u001b[43mget_links\u001b[49m\u001b[43m(\u001b[49m\u001b[43mlien\u001b[49m\u001b[38;5;241;43m.\u001b[39;49m\u001b[43mattrs\u001b[49m\u001b[43m[\u001b[49m\u001b[38;5;124;43m'\u001b[39;49m\u001b[38;5;124;43mhref\u001b[39;49m\u001b[38;5;124;43m'\u001b[39;49m\u001b[43m]\u001b[49m\u001b[43m)\u001b[49m\n",
      "Cell \u001b[0;32mIn[111], line 29\u001b[0m, in \u001b[0;36mget_links\u001b[0;34m(url)\u001b[0m\n\u001b[1;32m     27\u001b[0m \u001b[38;5;28;01mdef\u001b[39;00m \u001b[38;5;21mget_links\u001b[39m(url):\n\u001b[1;32m     28\u001b[0m \tresponse \u001b[38;5;241m=\u001b[39m requests\u001b[38;5;241m.\u001b[39mget(url)\n\u001b[0;32m---> 29\u001b[0m \t\u001b[43mtraitement\u001b[49m\u001b[43m(\u001b[49m\u001b[43mresponse\u001b[49m\u001b[43m)\u001b[49m\n",
      "Cell \u001b[0;32mIn[111], line 2\u001b[0m, in \u001b[0;36mtraitement\u001b[0;34m(response)\u001b[0m\n\u001b[1;32m      1\u001b[0m \u001b[38;5;28;01mdef\u001b[39;00m \u001b[38;5;21mtraitement\u001b[39m(response):\n\u001b[0;32m----> 2\u001b[0m \tsoup \u001b[38;5;241m=\u001b[39m \u001b[43mBeautifulSoup\u001b[49m\u001b[43m(\u001b[49m\u001b[43mresponse\u001b[49m\u001b[38;5;241;43m.\u001b[39;49m\u001b[43mtext\u001b[49m\u001b[43m,\u001b[49m\u001b[43m \u001b[49m\u001b[38;5;124;43m'\u001b[39;49m\u001b[38;5;124;43mhtml.parser\u001b[39;49m\u001b[38;5;124;43m'\u001b[39;49m\u001b[43m)\u001b[49m\n\u001b[1;32m      3\u001b[0m \tdom \u001b[38;5;241m=\u001b[39m etree\u001b[38;5;241m.\u001b[39mHTML(\u001b[38;5;28mstr\u001b[39m(soup))\n\u001b[1;32m      4\u001b[0m \t\u001b[38;5;66;03m# Recuperer les liens\u001b[39;00m\n",
      "File \u001b[0;32m/opt/homebrew/Caskroom/miniconda/base/envs/tf/lib/python3.10/site-packages/bs4/__init__.py:335\u001b[0m, in \u001b[0;36mBeautifulSoup.__init__\u001b[0;34m(self, markup, features, builder, parse_only, from_encoding, exclude_encodings, element_classes, **kwargs)\u001b[0m\n\u001b[1;32m    333\u001b[0m \u001b[38;5;28mself\u001b[39m\u001b[38;5;241m.\u001b[39mbuilder\u001b[38;5;241m.\u001b[39minitialize_soup(\u001b[38;5;28mself\u001b[39m)\n\u001b[1;32m    334\u001b[0m \u001b[38;5;28;01mtry\u001b[39;00m:\n\u001b[0;32m--> 335\u001b[0m     \u001b[38;5;28;43mself\u001b[39;49m\u001b[38;5;241;43m.\u001b[39;49m\u001b[43m_feed\u001b[49m\u001b[43m(\u001b[49m\u001b[43m)\u001b[49m\n\u001b[1;32m    336\u001b[0m     success \u001b[38;5;241m=\u001b[39m \u001b[38;5;28;01mTrue\u001b[39;00m\n\u001b[1;32m    337\u001b[0m     \u001b[38;5;28;01mbreak\u001b[39;00m\n",
      "File \u001b[0;32m/opt/homebrew/Caskroom/miniconda/base/envs/tf/lib/python3.10/site-packages/bs4/__init__.py:478\u001b[0m, in \u001b[0;36mBeautifulSoup._feed\u001b[0;34m(self)\u001b[0m\n\u001b[1;32m    475\u001b[0m \u001b[38;5;66;03m# Convert the document to Unicode.\u001b[39;00m\n\u001b[1;32m    476\u001b[0m \u001b[38;5;28mself\u001b[39m\u001b[38;5;241m.\u001b[39mbuilder\u001b[38;5;241m.\u001b[39mreset()\n\u001b[0;32m--> 478\u001b[0m \u001b[38;5;28;43mself\u001b[39;49m\u001b[38;5;241;43m.\u001b[39;49m\u001b[43mbuilder\u001b[49m\u001b[38;5;241;43m.\u001b[39;49m\u001b[43mfeed\u001b[49m\u001b[43m(\u001b[49m\u001b[38;5;28;43mself\u001b[39;49m\u001b[38;5;241;43m.\u001b[39;49m\u001b[43mmarkup\u001b[49m\u001b[43m)\u001b[49m\n\u001b[1;32m    479\u001b[0m \u001b[38;5;66;03m# Close out any unfinished strings and close all the open tags.\u001b[39;00m\n\u001b[1;32m    480\u001b[0m \u001b[38;5;28mself\u001b[39m\u001b[38;5;241m.\u001b[39mendData()\n",
      "File \u001b[0;32m/opt/homebrew/Caskroom/miniconda/base/envs/tf/lib/python3.10/site-packages/bs4/builder/_htmlparser.py:380\u001b[0m, in \u001b[0;36mHTMLParserTreeBuilder.feed\u001b[0;34m(self, markup)\u001b[0m\n\u001b[1;32m    378\u001b[0m parser\u001b[38;5;241m.\u001b[39msoup \u001b[38;5;241m=\u001b[39m \u001b[38;5;28mself\u001b[39m\u001b[38;5;241m.\u001b[39msoup\n\u001b[1;32m    379\u001b[0m \u001b[38;5;28;01mtry\u001b[39;00m:\n\u001b[0;32m--> 380\u001b[0m     \u001b[43mparser\u001b[49m\u001b[38;5;241;43m.\u001b[39;49m\u001b[43mfeed\u001b[49m\u001b[43m(\u001b[49m\u001b[43mmarkup\u001b[49m\u001b[43m)\u001b[49m\n\u001b[1;32m    381\u001b[0m     parser\u001b[38;5;241m.\u001b[39mclose()\n\u001b[1;32m    382\u001b[0m \u001b[38;5;28;01mexcept\u001b[39;00m \u001b[38;5;167;01mAssertionError\u001b[39;00m \u001b[38;5;28;01mas\u001b[39;00m e:\n\u001b[1;32m    383\u001b[0m     \u001b[38;5;66;03m# html.parser raises AssertionError in rare cases to\u001b[39;00m\n\u001b[1;32m    384\u001b[0m     \u001b[38;5;66;03m# indicate a fatal problem with the markup, especially\u001b[39;00m\n\u001b[1;32m    385\u001b[0m     \u001b[38;5;66;03m# when there's an error in the doctype declaration.\u001b[39;00m\n",
      "File \u001b[0;32m/opt/homebrew/Caskroom/miniconda/base/envs/tf/lib/python3.10/html/parser.py:110\u001b[0m, in \u001b[0;36mHTMLParser.feed\u001b[0;34m(self, data)\u001b[0m\n\u001b[1;32m    104\u001b[0m \u001b[38;5;250m\u001b[39m\u001b[38;5;124mr\u001b[39m\u001b[38;5;124;03m\"\"\"Feed data to the parser.\u001b[39;00m\n\u001b[1;32m    105\u001b[0m \n\u001b[1;32m    106\u001b[0m \u001b[38;5;124;03mCall this as often as you want, with as little or as much text\u001b[39;00m\n\u001b[1;32m    107\u001b[0m \u001b[38;5;124;03mas you want (may include '\\n').\u001b[39;00m\n\u001b[1;32m    108\u001b[0m \u001b[38;5;124;03m\"\"\"\u001b[39;00m\n\u001b[1;32m    109\u001b[0m \u001b[38;5;28mself\u001b[39m\u001b[38;5;241m.\u001b[39mrawdata \u001b[38;5;241m=\u001b[39m \u001b[38;5;28mself\u001b[39m\u001b[38;5;241m.\u001b[39mrawdata \u001b[38;5;241m+\u001b[39m data\n\u001b[0;32m--> 110\u001b[0m \u001b[38;5;28;43mself\u001b[39;49m\u001b[38;5;241;43m.\u001b[39;49m\u001b[43mgoahead\u001b[49m\u001b[43m(\u001b[49m\u001b[38;5;241;43m0\u001b[39;49m\u001b[43m)\u001b[49m\n",
      "File \u001b[0;32m/opt/homebrew/Caskroom/miniconda/base/envs/tf/lib/python3.10/html/parser.py:164\u001b[0m, in \u001b[0;36mHTMLParser.goahead\u001b[0;34m(self, end)\u001b[0m\n\u001b[1;32m    162\u001b[0m         \u001b[38;5;28mself\u001b[39m\u001b[38;5;241m.\u001b[39mhandle_data(unescape(rawdata[i:j]))\n\u001b[1;32m    163\u001b[0m     \u001b[38;5;28;01melse\u001b[39;00m:\n\u001b[0;32m--> 164\u001b[0m         \u001b[38;5;28;43mself\u001b[39;49m\u001b[38;5;241;43m.\u001b[39;49m\u001b[43mhandle_data\u001b[49m\u001b[43m(\u001b[49m\u001b[43mrawdata\u001b[49m\u001b[43m[\u001b[49m\u001b[43mi\u001b[49m\u001b[43m:\u001b[49m\u001b[43mj\u001b[49m\u001b[43m]\u001b[49m\u001b[43m)\u001b[49m\n\u001b[1;32m    165\u001b[0m i \u001b[38;5;241m=\u001b[39m \u001b[38;5;28mself\u001b[39m\u001b[38;5;241m.\u001b[39mupdatepos(i, j)\n\u001b[1;32m    166\u001b[0m \u001b[38;5;28;01mif\u001b[39;00m i \u001b[38;5;241m==\u001b[39m n: \u001b[38;5;28;01mbreak\u001b[39;00m\n",
      "File \u001b[0;32m/opt/homebrew/Caskroom/miniconda/base/envs/tf/lib/python3.10/site-packages/bs4/builder/_htmlparser.py:180\u001b[0m, in \u001b[0;36mBeautifulSoupHTMLParser.handle_data\u001b[0;34m(self, data)\u001b[0m\n\u001b[1;32m    178\u001b[0m \u001b[38;5;28;01mdef\u001b[39;00m \u001b[38;5;21mhandle_data\u001b[39m(\u001b[38;5;28mself\u001b[39m, data):\n\u001b[1;32m    179\u001b[0m \u001b[38;5;250m    \u001b[39m\u001b[38;5;124;03m\"\"\"Handle some textual data that shows up between tags.\"\"\"\u001b[39;00m\n\u001b[0;32m--> 180\u001b[0m     \u001b[38;5;28;43mself\u001b[39;49m\u001b[38;5;241;43m.\u001b[39;49m\u001b[43msoup\u001b[49m\u001b[38;5;241;43m.\u001b[39;49m\u001b[43mhandle_data\u001b[49m\u001b[43m(\u001b[49m\u001b[43mdata\u001b[49m\u001b[43m)\u001b[49m\n",
      "File \u001b[0;32m/opt/homebrew/Caskroom/miniconda/base/envs/tf/lib/python3.10/site-packages/bs4/__init__.py:775\u001b[0m, in \u001b[0;36mBeautifulSoup.handle_data\u001b[0;34m(self, data)\u001b[0m\n\u001b[1;32m    773\u001b[0m \u001b[38;5;28;01mdef\u001b[39;00m \u001b[38;5;21mhandle_data\u001b[39m(\u001b[38;5;28mself\u001b[39m, data):\n\u001b[1;32m    774\u001b[0m \u001b[38;5;250m    \u001b[39m\u001b[38;5;124;03m\"\"\"Called by the tree builder when a chunk of textual data is encountered.\"\"\"\u001b[39;00m\n\u001b[0;32m--> 775\u001b[0m     \u001b[38;5;28;43mself\u001b[39;49m\u001b[38;5;241;43m.\u001b[39;49m\u001b[43mcurrent_data\u001b[49m\u001b[38;5;241;43m.\u001b[39;49m\u001b[43mappend\u001b[49m\u001b[43m(\u001b[49m\u001b[43mdata\u001b[49m\u001b[43m)\u001b[49m\n",
      "\u001b[0;31mKeyboardInterrupt\u001b[0m: "
     ]
    }
   ],
   "source": [
    "liens = soup.find_all('a')\n",
    "for lien in liens:\n",
    "    if 'href' in lien.attrs:\n",
    "        if lien.attrs['href'].startswith('http'):\n",
    "            print(lien.attrs['href'])\n",
    "            get_links(lien.attrs['href'])"
   ]
  },
  {
   "cell_type": "code",
   "execution_count": 78,
   "metadata": {},
   "outputs": [
    {
     "name": "stdout",
     "output_type": "stream",
     "text": [
      "RhinocerosTemporal range: Eocene–Present \n",
      "PreꞒ\n",
      "Ꞓ\n",
      "O\n",
      "S\n",
      "D\n",
      "C\n",
      "P\n",
      "T\n",
      "J\n",
      "K\n",
      "Pg\n",
      "N\n",
      "\n",
      "\n",
      "\n",
      "\n",
      "\n",
      "\n",
      "Scientific classification \n",
      "\n",
      "Type genus\n",
      "\n",
      "Extant and subfossil genera\n",
      "\n"
     ]
    }
   ],
   "source": [
    "import pandas as pd\n",
    "\n",
    "\n",
    "table = soup.find('table')\n",
    "headers = []\n",
    "\n",
    "for header in table.find_all('th'):\n",
    "    headers.append(header.text)\n",
    "    print(header.text)"
   ]
  },
  {
   "cell_type": "code",
   "execution_count": 75,
   "metadata": {},
   "outputs": [
    {
     "name": "stdout",
     "output_type": "stream",
     "text": [
      "RhinocerosTemporal range: Eocene–Present \n",
      "PreꞒ\n",
      "Ꞓ\n",
      "O\n",
      "S\n",
      "D\n",
      "C\n",
      "P\n",
      "T\n",
      "J\n",
      "K\n",
      "Pg\n",
      "N\n",
      "\n",
      "\n",
      "\n",
      "\n",
      "\n",
      "\n",
      "\n",
      "\n",
      "Rhinoceros species of different genera; from top-left, clockwise: white rhinoceros (Ceratotherium simum), Sumatran rhinoceros (Dicerorhinus sumatrensis), Indian rhinoceros (Rhinoceros unicornis), black rhinoceros (Diceros bicornis)\n",
      "\n",
      "Scientific classification \n",
      "\n",
      "Domain:\n",
      "\n",
      "Eukaryota\n",
      "\n",
      "Kingdom:\n",
      "\n",
      "Animalia\n",
      "\n",
      "Phylum:\n",
      "\n",
      "Chordata\n",
      "\n",
      "Class:\n",
      "\n",
      "Mammalia\n",
      "\n",
      "Order:\n",
      "\n",
      "Perissodactyla\n",
      "\n",
      "Superfamily:\n",
      "\n",
      "Rhinocerotoidea\n",
      "\n",
      "Family:\n",
      "\n",
      "RhinocerotidaeOwen, 1845\n",
      "\n",
      "Type genus\n",
      "\n",
      "RhinocerosLinnaeus, 1758\n",
      "\n",
      "Extant and subfossil genera\n",
      "\n",
      "\n",
      "Ceratotherium\n",
      "Dicerorhinus\n",
      "Diceros\n",
      "Rhinoceros\n",
      "†Coelodonta\n",
      "†Stephanorhinus\n",
      "†Elasmotherium\n",
      "Fossil genera, see text\n",
      "\n",
      "\n",
      "\n",
      "\n",
      "Rhinoceros range\n",
      "\n"
     ]
    }
   ],
   "source": [
    "rows = []\n",
    "\n",
    "for row in table.find_all('tr'):\n",
    "\tfor cell in row.find_all(['td', 'th']):\n",
    "\t\tprint(cell.text)\n",
    "\t\trows.append(cell.text)"
   ]
  },
  {
   "cell_type": "code",
   "execution_count": 109,
   "metadata": {},
   "outputs": [
    {
     "name": "stdout",
     "output_type": "stream",
     "text": [
      "['/wiki/Ceratotherium_simum']\n"
     ]
    }
   ],
   "source": [
    "# Xpath\n",
    "\n",
    "# soup\n",
    "\n",
    "# recuperer le texte de la balise h1\n",
    "h1 = soup.find('h1')\n",
    "h1.text\n",
    "\n",
    "elemn = dom.xpath('//h2/text()')\n",
    "\n",
    "\n",
    "# recuperer un attribut d'une balise\n",
    "elemn = dom.xpath('//a/@href')\n",
    "\n",
    "\n",
    "# recuperer une par balise GRACE a son attribut\n",
    "\n",
    "elemn = dom.xpath('/html/body/div[2]/div/div[3]/main/div[3]/div[3]/div[1]/p[11]/i[2]/a/@href')\n",
    "print(elemn)"
   ]
  },
  {
   "cell_type": "code",
   "execution_count": null,
   "metadata": {},
   "outputs": [],
   "source": []
  }
 ],
 "metadata": {
  "kernelspec": {
   "display_name": "Python 3",
   "language": "python",
   "name": "python3"
  },
  "language_info": {
   "codemirror_mode": {
    "name": "ipython",
    "version": 3
   },
   "file_extension": ".py",
   "mimetype": "text/x-python",
   "name": "python",
   "nbconvert_exporter": "python",
   "pygments_lexer": "ipython3",
   "version": "3.10.14"
  }
 },
 "nbformat": 4,
 "nbformat_minor": 2
}
